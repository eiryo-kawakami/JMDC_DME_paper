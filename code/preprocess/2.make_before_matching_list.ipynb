{
 "cells": [
  {
   "cell_type": "code",
   "execution_count": 5,
   "metadata": {},
   "outputs": [],
   "source": [
    "import pandas as pd\n",
    "\n",
    "# number of all patients :272,337\n",
    "#   DME & Health check-up data is available until the onset: 2,368\n",
    "#   non DME   : 265,475\n",
    "\n",
    "kanja_summary = pd.read_csv(\"../data/kanja_summary.csv\")\n",
    "kanja_summary.rename(columns={'加入者id':'pid',\n",
    "                              '加入者性別':'sex',\n",
    "                              '観察開始時年齢':'age',\n",
    "                              '観察期間_月':'period'},inplace=True)\n",
    "cols = ['pid','is_mac','sex','age','period','durling_DM','months_until_first_kenshin','kenshin_times']\n",
    "kanja_summary['sex'] = kanja_summary['sex'].replace({'男性': 'M', '女性': 'F'})\n",
    "\n",
    "before_matching_mac_list = kanja_summary.loc[~kanja_summary.kenshin_times_before_onset.isna(),cols]\n",
    "before_matching_ctl_list = kanja_summary.loc[kanja_summary.possible_control==1,cols]\n",
    "\n",
    "before_matching_list = pd.concat([before_matching_mac_list,before_matching_ctl_list],axis=0)\n",
    "before_matching_list.fillna(0,inplace=True)\n",
    "before_matching_list.to_csv('../data/before_matching_list.csv',index=False)\n"
   ]
  }
 ],
 "metadata": {
  "kernelspec": {
   "display_name": ".venv",
   "language": "python",
   "name": "python3"
  },
  "language_info": {
   "codemirror_mode": {
    "name": "ipython",
    "version": 3
   },
   "file_extension": ".py",
   "mimetype": "text/x-python",
   "name": "python",
   "nbconvert_exporter": "python",
   "pygments_lexer": "ipython3",
   "version": "3.8.10"
  }
 },
 "nbformat": 4,
 "nbformat_minor": 2
}
