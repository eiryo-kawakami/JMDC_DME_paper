{
 "cells": [
  {
   "cell_type": "code",
   "execution_count": 22,
   "metadata": {},
   "outputs": [],
   "source": [
    "import pandas as pd\n",
    "\n",
    "df = pd.read_csv('./data/before_interpolate.csv')\n",
    "\n",
    "medians = df.iloc[:,1:].median()\n",
    "\n",
    "df_copy = df.copy()\n",
    "df_new = pd.DataFrame([])\n",
    "for pid in df_copy.加入者id.unique():\n",
    "    df_some_pid = df_copy.loc[df_copy.加入者id==pid,:]\n",
    "    df_some_pid.iloc[:1,1:] = df_some_pid.iloc[:1,1:].fillna(medians)\n",
    "    df_filled_ffill = df_some_pid.ffill()\n",
    "    df_new = pd.concat([df_new,df_filled_ffill])\n",
    "\n",
    "df_new.to_csv('./data/after_interpolate.csv',index=False)"
   ]
  }
 ],
 "metadata": {
  "kernelspec": {
   "display_name": ".venv",
   "language": "python",
   "name": "python3"
  },
  "language_info": {
   "codemirror_mode": {
    "name": "ipython",
    "version": 3
   },
   "file_extension": ".py",
   "mimetype": "text/x-python",
   "name": "python",
   "nbconvert_exporter": "python",
   "pygments_lexer": "ipython3",
   "version": "3.11.7"
  }
 },
 "nbformat": 4,
 "nbformat_minor": 2
}
