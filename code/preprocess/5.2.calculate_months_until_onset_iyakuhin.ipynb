{
 "cells": [
  {
   "cell_type": "code",
   "execution_count": null,
   "metadata": {},
   "outputs": [],
   "source": [
    "import pandas as pd\n",
    "\n",
    "# read data\n",
    "kanja_mac_ctl = pd.read_csv('../preprocessed/data/kanja_mac_ctl.csv')\n",
    "kanja_mac_ctl['観察終了年月'] = pd.to_datetime(kanja_mac_ctl['観察終了年月'], format='%Y%m')\n",
    "kanja_summary = pd.read_csv('../preprocessed/data/kanja_summary.csv',parse_dates=['発症年月日'])\n",
    "iyakuhin = pd.read_csv('../preprocessed/data/iyakuhin_mac_ctl.csv')\n",
    "iyakuhin['診療年月'] = pd.to_datetime(iyakuhin['診療年月'], format='%Y%m')\n",
    "iyakuhin['処方日'] = pd.to_datetime(iyakuhin['処方日'], format='%Y%m%d')\n",
    "\n",
    "kanja = pd.merge(kanja_mac_ctl,kanja_summary[['加入者id','発症年月日']],on='加入者id',how='left')\n",
    "data = pd.merge(iyakuhin,kanja[['加入者id','is_mac','発症年月日','観察終了年月']],on='加入者id',how='left')\n",
    "\n",
    "data.loc[data.is_mac == 1,'month_maculopathy'] = (\n",
    "           data['発症年月日'].dt.to_period('M').astype('int')\n",
    "         - data['診療年月'].dt.to_period('M').astype('int')\n",
    ")\n",
    "data.loc[data.is_mac == 0,'month_maculopathy'] = (\n",
    "           data['観察終了年月'].dt.to_period('M').astype('int')\n",
    "         - data['診療年月'].dt.to_period('M').astype('int')\n",
    ")\n",
    "\n",
    "columns = data.columns.tolist()\n",
    "new_col = ['加入者id','is_mac','month_maculopathy','医薬品コード','医薬品名']\n",
    "other_col = [col for col in columns if col not in new_col]\n",
    "new_col.extend(other_col)\n",
    "data = data[new_col]\n",
    "\n",
    "data.to_csv('../preprocessed/data/iyakuhin_mac_ctl_month.txt',index=False,sep='\\t')\n",
    "data\n"
   ]
  }
 ],
 "metadata": {
  "kernelspec": {
   "display_name": ".venv",
   "language": "python",
   "name": "python3"
  },
  "language_info": {
   "codemirror_mode": {
    "name": "ipython",
    "version": 3
   },
   "file_extension": ".py",
   "mimetype": "text/x-python",
   "name": "python",
   "nbconvert_exporter": "python",
   "pygments_lexer": "ipython3",
   "version": "3.11.7"
  }
 },
 "nbformat": 4,
 "nbformat_minor": 2
}
